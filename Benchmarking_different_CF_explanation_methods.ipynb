{
  "cells": [
    {
      "cell_type": "markdown",
      "id": "aa1d9cb2",
      "metadata": {
        "id": "aa1d9cb2"
      },
      "source": [
        "# Benchmarking different CF explanation methods"
      ]
    },
    {
      "cell_type": "markdown",
      "id": "3c80807c",
      "metadata": {
        "id": "3c80807c"
      },
      "source": [
        "In this notebook, we show runtimes of different model-agnostic explanation methods. Currently, we support three model-agnostic explanation methods:\n",
        "1. Random-Sampling\n",
        "2. Genetic Algorithm\n",
        "3. Querying a KD tree"
      ]
    },
    {
      "cell_type": "code",
      "source": [
        "pip install dice-ml"
      ],
      "metadata": {
        "id": "XTZqHo3X0maX",
        "outputId": "0307a2f4-106a-464d-fd42-fc0e0c8e4807",
        "colab": {
          "base_uri": "https://localhost:8080/"
        }
      },
      "id": "XTZqHo3X0maX",
      "execution_count": 1,
      "outputs": [
        {
          "output_type": "stream",
          "name": "stdout",
          "text": [
            "Looking in indexes: https://pypi.org/simple, https://us-python.pkg.dev/colab-wheels/public/simple/\n",
            "Collecting dice-ml\n",
            "  Downloading dice_ml-0.9-py3-none-any.whl (2.6 MB)\n",
            "\u001b[K     |████████████████████████████████| 2.6 MB 9.1 MB/s \n",
            "\u001b[?25hRequirement already satisfied: pandas in /usr/local/lib/python3.8/dist-packages (from dice-ml) (1.3.5)\n",
            "Requirement already satisfied: numpy in /usr/local/lib/python3.8/dist-packages (from dice-ml) (1.21.6)\n",
            "Requirement already satisfied: h5py in /usr/local/lib/python3.8/dist-packages (from dice-ml) (3.1.0)\n",
            "Requirement already satisfied: jsonschema in /usr/local/lib/python3.8/dist-packages (from dice-ml) (4.3.3)\n",
            "Requirement already satisfied: scikit-learn in /usr/local/lib/python3.8/dist-packages (from dice-ml) (1.0.2)\n",
            "Requirement already satisfied: tqdm in /usr/local/lib/python3.8/dist-packages (from dice-ml) (4.64.1)\n",
            "Requirement already satisfied: attrs>=17.4.0 in /usr/local/lib/python3.8/dist-packages (from jsonschema->dice-ml) (22.1.0)\n",
            "Requirement already satisfied: pyrsistent!=0.17.0,!=0.17.1,!=0.17.2,>=0.14.0 in /usr/local/lib/python3.8/dist-packages (from jsonschema->dice-ml) (0.19.2)\n",
            "Requirement already satisfied: importlib-resources>=1.4.0 in /usr/local/lib/python3.8/dist-packages (from jsonschema->dice-ml) (5.10.1)\n",
            "Requirement already satisfied: zipp>=3.1.0 in /usr/local/lib/python3.8/dist-packages (from importlib-resources>=1.4.0->jsonschema->dice-ml) (3.11.0)\n",
            "Requirement already satisfied: python-dateutil>=2.7.3 in /usr/local/lib/python3.8/dist-packages (from pandas->dice-ml) (2.8.2)\n",
            "Requirement already satisfied: pytz>=2017.3 in /usr/local/lib/python3.8/dist-packages (from pandas->dice-ml) (2022.6)\n",
            "Requirement already satisfied: six>=1.5 in /usr/local/lib/python3.8/dist-packages (from python-dateutil>=2.7.3->pandas->dice-ml) (1.15.0)\n",
            "Requirement already satisfied: joblib>=0.11 in /usr/local/lib/python3.8/dist-packages (from scikit-learn->dice-ml) (1.2.0)\n",
            "Requirement already satisfied: scipy>=1.1.0 in /usr/local/lib/python3.8/dist-packages (from scikit-learn->dice-ml) (1.7.3)\n",
            "Requirement already satisfied: threadpoolctl>=2.0.0 in /usr/local/lib/python3.8/dist-packages (from scikit-learn->dice-ml) (3.1.0)\n",
            "Installing collected packages: dice-ml\n",
            "Successfully installed dice-ml-0.9\n"
          ]
        }
      ]
    },
    {
      "cell_type": "code",
      "execution_count": 2,
      "id": "36dfb4d3",
      "metadata": {
        "id": "36dfb4d3"
      },
      "outputs": [],
      "source": [
        "import numpy as np\n",
        "import timeit\n",
        "import random\n",
        "\n",
        "from sklearn.compose import ColumnTransformer\n",
        "from sklearn.model_selection import train_test_split\n",
        "from sklearn.pipeline import Pipeline\n",
        "from sklearn.preprocessing import StandardScaler, OneHotEncoder\n",
        "from sklearn.ensemble import RandomForestClassifier\n",
        "\n",
        "import dice_ml\n",
        "from dice_ml.utils import helpers  # helper functions\n",
        "from dice_ml import Dice"
      ]
    },
    {
      "cell_type": "code",
      "execution_count": 3,
      "id": "e9f21b8d",
      "metadata": {
        "id": "e9f21b8d"
      },
      "outputs": [],
      "source": [
        "%load_ext autoreload\n",
        "%autoreload 2"
      ]
    },
    {
      "cell_type": "markdown",
      "id": "9dba2138",
      "metadata": {
        "id": "9dba2138"
      },
      "source": [
        "## Loading dataset"
      ]
    },
    {
      "cell_type": "markdown",
      "id": "5c1d419f",
      "metadata": {
        "id": "5c1d419f"
      },
      "source": [
        "We use the \"adult\" income dataset from UCI Machine Learning Repository (https://archive.ics.uci.edu/ml/datasets/adult). For demonstration purposes, we transform the data as described in dice_ml.utils.helpers module."
      ]
    },
    {
      "cell_type": "code",
      "execution_count": 4,
      "id": "9620c49c",
      "metadata": {
        "id": "9620c49c"
      },
      "outputs": [],
      "source": [
        "dataset = helpers.load_adult_income_dataset()"
      ]
    },
    {
      "cell_type": "code",
      "execution_count": 5,
      "id": "13014082",
      "metadata": {
        "id": "13014082",
        "outputId": "89bfba18-ea16-4703-c067-97e70423ae6d",
        "colab": {
          "base_uri": "https://localhost:8080/",
          "height": 206
        }
      },
      "outputs": [
        {
          "output_type": "execute_result",
          "data": {
            "text/plain": [
              "   age      workclass     education marital_status    occupation   race  \\\n",
              "0   28        Private     Bachelors         Single  White-Collar  White   \n",
              "1   30  Self-Employed         Assoc        Married  Professional  White   \n",
              "2   32        Private  Some-college        Married  White-Collar  White   \n",
              "3   20        Private  Some-college         Single       Service  White   \n",
              "4   41  Self-Employed  Some-college        Married  White-Collar  White   \n",
              "\n",
              "   gender  hours_per_week  income  \n",
              "0  Female              60       0  \n",
              "1    Male              65       1  \n",
              "2    Male              50       0  \n",
              "3  Female              35       0  \n",
              "4    Male              50       0  "
            ],
            "text/html": [
              "\n",
              "  <div id=\"df-63b6505a-7a73-4a2d-a77d-19716241dd01\">\n",
              "    <div class=\"colab-df-container\">\n",
              "      <div>\n",
              "<style scoped>\n",
              "    .dataframe tbody tr th:only-of-type {\n",
              "        vertical-align: middle;\n",
              "    }\n",
              "\n",
              "    .dataframe tbody tr th {\n",
              "        vertical-align: top;\n",
              "    }\n",
              "\n",
              "    .dataframe thead th {\n",
              "        text-align: right;\n",
              "    }\n",
              "</style>\n",
              "<table border=\"1\" class=\"dataframe\">\n",
              "  <thead>\n",
              "    <tr style=\"text-align: right;\">\n",
              "      <th></th>\n",
              "      <th>age</th>\n",
              "      <th>workclass</th>\n",
              "      <th>education</th>\n",
              "      <th>marital_status</th>\n",
              "      <th>occupation</th>\n",
              "      <th>race</th>\n",
              "      <th>gender</th>\n",
              "      <th>hours_per_week</th>\n",
              "      <th>income</th>\n",
              "    </tr>\n",
              "  </thead>\n",
              "  <tbody>\n",
              "    <tr>\n",
              "      <th>0</th>\n",
              "      <td>28</td>\n",
              "      <td>Private</td>\n",
              "      <td>Bachelors</td>\n",
              "      <td>Single</td>\n",
              "      <td>White-Collar</td>\n",
              "      <td>White</td>\n",
              "      <td>Female</td>\n",
              "      <td>60</td>\n",
              "      <td>0</td>\n",
              "    </tr>\n",
              "    <tr>\n",
              "      <th>1</th>\n",
              "      <td>30</td>\n",
              "      <td>Self-Employed</td>\n",
              "      <td>Assoc</td>\n",
              "      <td>Married</td>\n",
              "      <td>Professional</td>\n",
              "      <td>White</td>\n",
              "      <td>Male</td>\n",
              "      <td>65</td>\n",
              "      <td>1</td>\n",
              "    </tr>\n",
              "    <tr>\n",
              "      <th>2</th>\n",
              "      <td>32</td>\n",
              "      <td>Private</td>\n",
              "      <td>Some-college</td>\n",
              "      <td>Married</td>\n",
              "      <td>White-Collar</td>\n",
              "      <td>White</td>\n",
              "      <td>Male</td>\n",
              "      <td>50</td>\n",
              "      <td>0</td>\n",
              "    </tr>\n",
              "    <tr>\n",
              "      <th>3</th>\n",
              "      <td>20</td>\n",
              "      <td>Private</td>\n",
              "      <td>Some-college</td>\n",
              "      <td>Single</td>\n",
              "      <td>Service</td>\n",
              "      <td>White</td>\n",
              "      <td>Female</td>\n",
              "      <td>35</td>\n",
              "      <td>0</td>\n",
              "    </tr>\n",
              "    <tr>\n",
              "      <th>4</th>\n",
              "      <td>41</td>\n",
              "      <td>Self-Employed</td>\n",
              "      <td>Some-college</td>\n",
              "      <td>Married</td>\n",
              "      <td>White-Collar</td>\n",
              "      <td>White</td>\n",
              "      <td>Male</td>\n",
              "      <td>50</td>\n",
              "      <td>0</td>\n",
              "    </tr>\n",
              "  </tbody>\n",
              "</table>\n",
              "</div>\n",
              "      <button class=\"colab-df-convert\" onclick=\"convertToInteractive('df-63b6505a-7a73-4a2d-a77d-19716241dd01')\"\n",
              "              title=\"Convert this dataframe to an interactive table.\"\n",
              "              style=\"display:none;\">\n",
              "        \n",
              "  <svg xmlns=\"http://www.w3.org/2000/svg\" height=\"24px\"viewBox=\"0 0 24 24\"\n",
              "       width=\"24px\">\n",
              "    <path d=\"M0 0h24v24H0V0z\" fill=\"none\"/>\n",
              "    <path d=\"M18.56 5.44l.94 2.06.94-2.06 2.06-.94-2.06-.94-.94-2.06-.94 2.06-2.06.94zm-11 1L8.5 8.5l.94-2.06 2.06-.94-2.06-.94L8.5 2.5l-.94 2.06-2.06.94zm10 10l.94 2.06.94-2.06 2.06-.94-2.06-.94-.94-2.06-.94 2.06-2.06.94z\"/><path d=\"M17.41 7.96l-1.37-1.37c-.4-.4-.92-.59-1.43-.59-.52 0-1.04.2-1.43.59L10.3 9.45l-7.72 7.72c-.78.78-.78 2.05 0 2.83L4 21.41c.39.39.9.59 1.41.59.51 0 1.02-.2 1.41-.59l7.78-7.78 2.81-2.81c.8-.78.8-2.07 0-2.86zM5.41 20L4 18.59l7.72-7.72 1.47 1.35L5.41 20z\"/>\n",
              "  </svg>\n",
              "      </button>\n",
              "      \n",
              "  <style>\n",
              "    .colab-df-container {\n",
              "      display:flex;\n",
              "      flex-wrap:wrap;\n",
              "      gap: 12px;\n",
              "    }\n",
              "\n",
              "    .colab-df-convert {\n",
              "      background-color: #E8F0FE;\n",
              "      border: none;\n",
              "      border-radius: 50%;\n",
              "      cursor: pointer;\n",
              "      display: none;\n",
              "      fill: #1967D2;\n",
              "      height: 32px;\n",
              "      padding: 0 0 0 0;\n",
              "      width: 32px;\n",
              "    }\n",
              "\n",
              "    .colab-df-convert:hover {\n",
              "      background-color: #E2EBFA;\n",
              "      box-shadow: 0px 1px 2px rgba(60, 64, 67, 0.3), 0px 1px 3px 1px rgba(60, 64, 67, 0.15);\n",
              "      fill: #174EA6;\n",
              "    }\n",
              "\n",
              "    [theme=dark] .colab-df-convert {\n",
              "      background-color: #3B4455;\n",
              "      fill: #D2E3FC;\n",
              "    }\n",
              "\n",
              "    [theme=dark] .colab-df-convert:hover {\n",
              "      background-color: #434B5C;\n",
              "      box-shadow: 0px 1px 3px 1px rgba(0, 0, 0, 0.15);\n",
              "      filter: drop-shadow(0px 1px 2px rgba(0, 0, 0, 0.3));\n",
              "      fill: #FFFFFF;\n",
              "    }\n",
              "  </style>\n",
              "\n",
              "      <script>\n",
              "        const buttonEl =\n",
              "          document.querySelector('#df-63b6505a-7a73-4a2d-a77d-19716241dd01 button.colab-df-convert');\n",
              "        buttonEl.style.display =\n",
              "          google.colab.kernel.accessAllowed ? 'block' : 'none';\n",
              "\n",
              "        async function convertToInteractive(key) {\n",
              "          const element = document.querySelector('#df-63b6505a-7a73-4a2d-a77d-19716241dd01');\n",
              "          const dataTable =\n",
              "            await google.colab.kernel.invokeFunction('convertToInteractive',\n",
              "                                                     [key], {});\n",
              "          if (!dataTable) return;\n",
              "\n",
              "          const docLinkHtml = 'Like what you see? Visit the ' +\n",
              "            '<a target=\"_blank\" href=https://colab.research.google.com/notebooks/data_table.ipynb>data table notebook</a>'\n",
              "            + ' to learn more about interactive tables.';\n",
              "          element.innerHTML = '';\n",
              "          dataTable['output_type'] = 'display_data';\n",
              "          await google.colab.output.renderOutput(dataTable, element);\n",
              "          const docLink = document.createElement('div');\n",
              "          docLink.innerHTML = docLinkHtml;\n",
              "          element.appendChild(docLink);\n",
              "        }\n",
              "      </script>\n",
              "    </div>\n",
              "  </div>\n",
              "  "
            ]
          },
          "metadata": {},
          "execution_count": 5
        }
      ],
      "source": [
        "dataset.head()"
      ]
    },
    {
      "cell_type": "code",
      "execution_count": 6,
      "id": "9961bf82",
      "metadata": {
        "id": "9961bf82"
      },
      "outputs": [],
      "source": [
        "d = dice_ml.Data(dataframe=dataset,\n",
        "                 continuous_features=['age', 'hours_per_week'], outcome_name='income')"
      ]
    },
    {
      "cell_type": "markdown",
      "id": "ae7e84b9",
      "metadata": {
        "id": "ae7e84b9"
      },
      "source": [
        "## Training the ML model"
      ]
    },
    {
      "cell_type": "markdown",
      "id": "9ffefbfe",
      "metadata": {
        "id": "9ffefbfe"
      },
      "source": [
        "Currently, the genetic algorithm & KD tree methods work with scikit-learn models. Support for Tensorflow 1&2 and Pytorch will be implemented soon."
      ]
    },
    {
      "cell_type": "code",
      "execution_count": 7,
      "id": "00e43d3b",
      "metadata": {
        "id": "00e43d3b"
      },
      "outputs": [],
      "source": [
        "target = dataset[\"income\"]\n",
        "\n",
        "# Split data into train and test\n",
        "datasetX = dataset.drop(\"income\", axis=1)\n",
        "x_train, x_test, y_train, y_test = train_test_split(datasetX,\n",
        "                                                    target,\n",
        "                                                    test_size=0.2,\n",
        "                                                    random_state=0,\n",
        "                                                    stratify=target)\n",
        "\n",
        "numerical = [\"age\", \"hours_per_week\"]\n",
        "categorical = x_train.columns.difference(numerical)\n",
        "\n",
        "# We create the preprocessing pipelines for both numeric and categorical data.\n",
        "numeric_transformer = Pipeline(\n",
        "    steps=[('scaler', StandardScaler())])\n",
        "\n",
        "categorical_transformer = Pipeline(\n",
        "    steps=[('onehot', OneHotEncoder(handle_unknown='ignore'))])\n",
        "\n",
        "transformations = ColumnTransformer(\n",
        "    transformers=[\n",
        "        ('num', numeric_transformer, numerical),\n",
        "        ('cat', categorical_transformer, categorical)])\n",
        "\n",
        "# Append classifier to preprocessing pipeline.\n",
        "# Now we have a full prediction pipeline.\n",
        "clf = Pipeline(steps=[('preprocessor', transformations),\n",
        "                      ('classifier', RandomForestClassifier())])\n",
        "model = clf.fit(x_train, y_train)"
      ]
    },
    {
      "cell_type": "code",
      "execution_count": 8,
      "id": "3845b142",
      "metadata": {
        "id": "3845b142"
      },
      "outputs": [],
      "source": [
        "m = dice_ml.Model(model=model, backend=\"sklearn\")"
      ]
    },
    {
      "cell_type": "markdown",
      "id": "ee61a3fb",
      "metadata": {
        "id": "ee61a3fb"
      },
      "source": [
        "## Initialize counterfactual generation methods"
      ]
    },
    {
      "cell_type": "markdown",
      "id": "b9dc3e16",
      "metadata": {
        "id": "b9dc3e16"
      },
      "source": [
        "We now initialize all three counterfactuals generation methods"
      ]
    },
    {
      "cell_type": "code",
      "execution_count": 9,
      "id": "82cfd52d",
      "metadata": {
        "id": "82cfd52d"
      },
      "outputs": [],
      "source": [
        "exp_random = Dice(d, m, method=\"random\")"
      ]
    },
    {
      "cell_type": "code",
      "execution_count": 10,
      "id": "d7e17587",
      "metadata": {
        "id": "d7e17587"
      },
      "outputs": [],
      "source": [
        "exp_genetic = Dice(d, m, method=\"genetic\")"
      ]
    },
    {
      "cell_type": "code",
      "execution_count": 11,
      "id": "3512a70d",
      "metadata": {
        "id": "3512a70d"
      },
      "outputs": [],
      "source": [
        "exp_KD = Dice(d, m, method=\"kdtree\")"
      ]
    },
    {
      "cell_type": "code",
      "execution_count": 12,
      "id": "b453cbc2",
      "metadata": {
        "id": "b453cbc2"
      },
      "outputs": [],
      "source": [
        "query_instances = x_train[4:7]"
      ]
    },
    {
      "cell_type": "code",
      "execution_count": 13,
      "id": "ef52d537",
      "metadata": {
        "id": "ef52d537",
        "outputId": "eef673c9-6dbb-4d23-8427-99f559663476",
        "colab": {
          "base_uri": "https://localhost:8080/",
          "height": 143
        }
      },
      "outputs": [
        {
          "output_type": "execute_result",
          "data": {
            "text/plain": [
              "       age      workclass     education marital_status   occupation   race  \\\n",
              "9608    27        Private        School         Single  Blue-Collar  White   \n",
              "22027   31  Self-Employed  Some-college        Married        Sales  Other   \n",
              "14296   26        Private       HS-grad        Married  Blue-Collar  White   \n",
              "\n",
              "      gender  hours_per_week  \n",
              "9608    Male              40  \n",
              "22027   Male              60  \n",
              "14296   Male              50  "
            ],
            "text/html": [
              "\n",
              "  <div id=\"df-a95c5e40-5c2d-43ab-9587-9ead995eb225\">\n",
              "    <div class=\"colab-df-container\">\n",
              "      <div>\n",
              "<style scoped>\n",
              "    .dataframe tbody tr th:only-of-type {\n",
              "        vertical-align: middle;\n",
              "    }\n",
              "\n",
              "    .dataframe tbody tr th {\n",
              "        vertical-align: top;\n",
              "    }\n",
              "\n",
              "    .dataframe thead th {\n",
              "        text-align: right;\n",
              "    }\n",
              "</style>\n",
              "<table border=\"1\" class=\"dataframe\">\n",
              "  <thead>\n",
              "    <tr style=\"text-align: right;\">\n",
              "      <th></th>\n",
              "      <th>age</th>\n",
              "      <th>workclass</th>\n",
              "      <th>education</th>\n",
              "      <th>marital_status</th>\n",
              "      <th>occupation</th>\n",
              "      <th>race</th>\n",
              "      <th>gender</th>\n",
              "      <th>hours_per_week</th>\n",
              "    </tr>\n",
              "  </thead>\n",
              "  <tbody>\n",
              "    <tr>\n",
              "      <th>9608</th>\n",
              "      <td>27</td>\n",
              "      <td>Private</td>\n",
              "      <td>School</td>\n",
              "      <td>Single</td>\n",
              "      <td>Blue-Collar</td>\n",
              "      <td>White</td>\n",
              "      <td>Male</td>\n",
              "      <td>40</td>\n",
              "    </tr>\n",
              "    <tr>\n",
              "      <th>22027</th>\n",
              "      <td>31</td>\n",
              "      <td>Self-Employed</td>\n",
              "      <td>Some-college</td>\n",
              "      <td>Married</td>\n",
              "      <td>Sales</td>\n",
              "      <td>Other</td>\n",
              "      <td>Male</td>\n",
              "      <td>60</td>\n",
              "    </tr>\n",
              "    <tr>\n",
              "      <th>14296</th>\n",
              "      <td>26</td>\n",
              "      <td>Private</td>\n",
              "      <td>HS-grad</td>\n",
              "      <td>Married</td>\n",
              "      <td>Blue-Collar</td>\n",
              "      <td>White</td>\n",
              "      <td>Male</td>\n",
              "      <td>50</td>\n",
              "    </tr>\n",
              "  </tbody>\n",
              "</table>\n",
              "</div>\n",
              "      <button class=\"colab-df-convert\" onclick=\"convertToInteractive('df-a95c5e40-5c2d-43ab-9587-9ead995eb225')\"\n",
              "              title=\"Convert this dataframe to an interactive table.\"\n",
              "              style=\"display:none;\">\n",
              "        \n",
              "  <svg xmlns=\"http://www.w3.org/2000/svg\" height=\"24px\"viewBox=\"0 0 24 24\"\n",
              "       width=\"24px\">\n",
              "    <path d=\"M0 0h24v24H0V0z\" fill=\"none\"/>\n",
              "    <path d=\"M18.56 5.44l.94 2.06.94-2.06 2.06-.94-2.06-.94-.94-2.06-.94 2.06-2.06.94zm-11 1L8.5 8.5l.94-2.06 2.06-.94-2.06-.94L8.5 2.5l-.94 2.06-2.06.94zm10 10l.94 2.06.94-2.06 2.06-.94-2.06-.94-.94-2.06-.94 2.06-2.06.94z\"/><path d=\"M17.41 7.96l-1.37-1.37c-.4-.4-.92-.59-1.43-.59-.52 0-1.04.2-1.43.59L10.3 9.45l-7.72 7.72c-.78.78-.78 2.05 0 2.83L4 21.41c.39.39.9.59 1.41.59.51 0 1.02-.2 1.41-.59l7.78-7.78 2.81-2.81c.8-.78.8-2.07 0-2.86zM5.41 20L4 18.59l7.72-7.72 1.47 1.35L5.41 20z\"/>\n",
              "  </svg>\n",
              "      </button>\n",
              "      \n",
              "  <style>\n",
              "    .colab-df-container {\n",
              "      display:flex;\n",
              "      flex-wrap:wrap;\n",
              "      gap: 12px;\n",
              "    }\n",
              "\n",
              "    .colab-df-convert {\n",
              "      background-color: #E8F0FE;\n",
              "      border: none;\n",
              "      border-radius: 50%;\n",
              "      cursor: pointer;\n",
              "      display: none;\n",
              "      fill: #1967D2;\n",
              "      height: 32px;\n",
              "      padding: 0 0 0 0;\n",
              "      width: 32px;\n",
              "    }\n",
              "\n",
              "    .colab-df-convert:hover {\n",
              "      background-color: #E2EBFA;\n",
              "      box-shadow: 0px 1px 2px rgba(60, 64, 67, 0.3), 0px 1px 3px 1px rgba(60, 64, 67, 0.15);\n",
              "      fill: #174EA6;\n",
              "    }\n",
              "\n",
              "    [theme=dark] .colab-df-convert {\n",
              "      background-color: #3B4455;\n",
              "      fill: #D2E3FC;\n",
              "    }\n",
              "\n",
              "    [theme=dark] .colab-df-convert:hover {\n",
              "      background-color: #434B5C;\n",
              "      box-shadow: 0px 1px 3px 1px rgba(0, 0, 0, 0.15);\n",
              "      filter: drop-shadow(0px 1px 2px rgba(0, 0, 0, 0.3));\n",
              "      fill: #FFFFFF;\n",
              "    }\n",
              "  </style>\n",
              "\n",
              "      <script>\n",
              "        const buttonEl =\n",
              "          document.querySelector('#df-a95c5e40-5c2d-43ab-9587-9ead995eb225 button.colab-df-convert');\n",
              "        buttonEl.style.display =\n",
              "          google.colab.kernel.accessAllowed ? 'block' : 'none';\n",
              "\n",
              "        async function convertToInteractive(key) {\n",
              "          const element = document.querySelector('#df-a95c5e40-5c2d-43ab-9587-9ead995eb225');\n",
              "          const dataTable =\n",
              "            await google.colab.kernel.invokeFunction('convertToInteractive',\n",
              "                                                     [key], {});\n",
              "          if (!dataTable) return;\n",
              "\n",
              "          const docLinkHtml = 'Like what you see? Visit the ' +\n",
              "            '<a target=\"_blank\" href=https://colab.research.google.com/notebooks/data_table.ipynb>data table notebook</a>'\n",
              "            + ' to learn more about interactive tables.';\n",
              "          element.innerHTML = '';\n",
              "          dataTable['output_type'] = 'display_data';\n",
              "          await google.colab.output.renderOutput(dataTable, element);\n",
              "          const docLink = document.createElement('div');\n",
              "          docLink.innerHTML = docLinkHtml;\n",
              "          element.appendChild(docLink);\n",
              "        }\n",
              "      </script>\n",
              "    </div>\n",
              "  </div>\n",
              "  "
            ]
          },
          "metadata": {},
          "execution_count": 13
        }
      ],
      "source": [
        "query_instances"
      ]
    },
    {
      "cell_type": "markdown",
      "id": "3b1ae17c",
      "metadata": {
        "id": "3b1ae17c"
      },
      "source": [
        "## Generate Counterfactuals"
      ]
    },
    {
      "cell_type": "markdown",
      "id": "953cd3a6",
      "metadata": {
        "id": "953cd3a6"
      },
      "source": [
        "We now generate counterfactuals of desired_class=0 using all three different methods and check the runtime. You can modify the number of loops (```num_loops```), and the number of diverse counterfactuals to generate (```k```). "
      ]
    },
    {
      "cell_type": "code",
      "execution_count": 14,
      "id": "a2acd011",
      "metadata": {
        "id": "a2acd011"
      },
      "outputs": [],
      "source": [
        "num_loops = 2\n",
        "k = 2"
      ]
    },
    {
      "cell_type": "code",
      "execution_count": 15,
      "id": "4bfeb5b5",
      "metadata": {
        "scrolled": true,
        "id": "4bfeb5b5",
        "outputId": "a5d95464-cd52-45bd-fb25-2e6adba21be9",
        "colab": {
          "base_uri": "https://localhost:8080/"
        }
      },
      "outputs": [
        {
          "output_type": "stream",
          "name": "stderr",
          "text": [
            "/usr/local/lib/python3.8/dist-packages/pandas/core/indexing.py:1773: SettingWithCopyWarning: \n",
            "A value is trying to be set on a copy of a slice from a DataFrame.\n",
            "Try using .loc[row_indexer,col_indexer] = value instead\n",
            "\n",
            "See the caveats in the documentation: https://pandas.pydata.org/pandas-docs/stable/user_guide/indexing.html#returning-a-view-versus-a-copy\n",
            "  self._setitem_single_column(ilocs[0], value, pi)\n",
            "/usr/local/lib/python3.8/dist-packages/pandas/core/indexing.py:1835: SettingWithCopyWarning: \n",
            "A value is trying to be set on a copy of a slice from a DataFrame.\n",
            "Try using .loc[row_indexer,col_indexer] = value instead\n",
            "\n",
            "See the caveats in the documentation: https://pandas.pydata.org/pandas-docs/stable/user_guide/indexing.html#returning-a-view-versus-a-copy\n",
            "  self._setitem_single_column(loc, value[:, i].tolist(), pi)\n",
            "100%|██████████| 3/3 [00:00<00:00,  3.95it/s]\n",
            "100%|██████████| 3/3 [00:03<00:00,  1.22s/it]\n",
            "100%|██████████| 3/3 [00:03<00:00,  1.09s/it]\n",
            "/usr/local/lib/python3.8/dist-packages/pandas/core/indexing.py:1773: SettingWithCopyWarning: \n",
            "A value is trying to be set on a copy of a slice from a DataFrame.\n",
            "Try using .loc[row_indexer,col_indexer] = value instead\n",
            "\n",
            "See the caveats in the documentation: https://pandas.pydata.org/pandas-docs/stable/user_guide/indexing.html#returning-a-view-versus-a-copy\n",
            "  self._setitem_single_column(ilocs[0], value, pi)\n",
            "/usr/local/lib/python3.8/dist-packages/pandas/core/indexing.py:1835: SettingWithCopyWarning: \n",
            "A value is trying to be set on a copy of a slice from a DataFrame.\n",
            "Try using .loc[row_indexer,col_indexer] = value instead\n",
            "\n",
            "See the caveats in the documentation: https://pandas.pydata.org/pandas-docs/stable/user_guide/indexing.html#returning-a-view-versus-a-copy\n",
            "  self._setitem_single_column(loc, value[:, i].tolist(), pi)\n",
            "100%|██████████| 3/3 [00:00<00:00,  3.58it/s]\n",
            "100%|██████████| 3/3 [00:03<00:00,  1.22s/it]\n",
            "100%|██████████| 3/3 [00:03<00:00,  1.03s/it]"
          ]
        },
        {
          "output_type": "stream",
          "name": "stdout",
          "text": [
            "For Independent random sampling of features: Total time taken to generate 2 sets of 2 counterfactuals each: 00 min 01 sec\n",
            "For querying from a KD tree: Total time taken to generate 2 sets of 2 counterfactuals each: 00 min 06 sec\n",
            "For genetic algorithm: Total time taken to generate 2 sets of 2 counterfactuals each: 00 min 07 sec\n"
          ]
        },
        {
          "output_type": "stream",
          "name": "stderr",
          "text": [
            "\n"
          ]
        }
      ],
      "source": [
        "elapsed_random = 0\n",
        "elapsed_kd = 0\n",
        "elapsed_genetic = 0\n",
        "\n",
        "for _ in range(num_loops):\n",
        "    for q in query_instances:\n",
        "        if q in d.categorical_feature_names:\n",
        "            query_instances.loc[:, q] = \\\n",
        "                [np.unique(random.choice(dataset[q].values)) for _ in query_instances.index]\n",
        "        else:\n",
        "            query_instances.loc[:, q] = \\\n",
        "                [np.random.uniform(dataset[q].min(), dataset[q].max()) for _ in query_instances.index]\n",
        "\n",
        "    start_time = timeit.default_timer()\n",
        "    dice_exp_random = exp_random.generate_counterfactuals(query_instances, total_CFs=k,\n",
        "                                                          desired_class=0, verbose=False)\n",
        "    elapsed_random += timeit.default_timer() - start_time\n",
        "\n",
        "    start_time = timeit.default_timer()\n",
        "    dice_exp = exp_genetic.generate_counterfactuals(query_instances, total_CFs=k, desired_class=0,\n",
        "                                                    yloss_type=\"hinge_loss\", verbose=False)\n",
        "    elapsed_genetic += timeit.default_timer() - start_time\n",
        "\n",
        "    start_time = timeit.default_timer()\n",
        "    dice_kd = exp_KD.generate_counterfactuals(query_instances, total_CFs=k, desired_class=0,\n",
        "                                              verbose=False)\n",
        "    elapsed_kd += timeit.default_timer() - start_time\n",
        "\n",
        "m_random, s_random = divmod(elapsed_random, 60)\n",
        "print('For Independent random sampling of features: Total time taken to generate %d' % num_loops,\n",
        "      'sets of %d' % k, 'counterfactuals each: %02d' % m_random, 'min %02d' % s_random, 'sec')\n",
        "\n",
        "m_kd, s_kd = divmod(elapsed_kd, 60)\n",
        "print('For querying from a KD tree: Total time taken to generate %d' % num_loops,\n",
        "      'sets of %d' % k, 'counterfactuals each: %02d' % m_kd, 'min %02d' % s_kd, 'sec')\n",
        "\n",
        "m_genetic, s_genetic = divmod(elapsed_genetic, 60)\n",
        "print('For genetic algorithm: Total time taken to generate %d' % num_loops,\n",
        "      'sets of %d' % k, 'counterfactuals each: %02d' % m_genetic, 'min %02d' % s_genetic, 'sec')"
      ]
    }
  ],
  "metadata": {
    "kernelspec": {
      "display_name": "Python 3",
      "language": "python",
      "name": "python3"
    },
    "language_info": {
      "codemirror_mode": {
        "name": "ipython",
        "version": 3
      },
      "file_extension": ".py",
      "mimetype": "text/x-python",
      "name": "python",
      "nbconvert_exporter": "python",
      "pygments_lexer": "ipython3",
      "version": "3.6.12"
    },
    "colab": {
      "provenance": []
    }
  },
  "nbformat": 4,
  "nbformat_minor": 5
}